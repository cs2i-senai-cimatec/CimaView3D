{
 "cells": [
  {
   "cell_type": "markdown",
   "id": "c81b9449-a99f-4692-9d86-5caf60b22258",
   "metadata": {},
   "source": [
    "# CimaView3D - Tutorial\n",
    "\n",
    "CimaView3D on github https://github.com/cs2i-senai-cimatec/CimaView3D"
   ]
  },
  {
   "cell_type": "markdown",
   "id": "07839a61-458a-4ecb-bd77-a912db862ef2",
   "metadata": {},
   "source": [
    "# Instalation\n",
    "\n",
    "CimaView3D needs the CIGVis package, to install it run:\n",
    "```python\n",
    "!pip install \"cigvis[plotly]\"\n",
    "```\n",
    "\n",
    "After that, you have to copy the CimaView3D.py and import it to the scope of the development environment:"
   ]
  },
  {
   "cell_type": "code",
   "execution_count": null,
   "id": "4bbe6368-c734-4b52-9c7f-a46c0287499b",
   "metadata": {},
   "outputs": [],
   "source": [
    "import CimaView3D as cima"
   ]
  },
  {
   "cell_type": "markdown",
   "id": "045aca5f-cfa8-4b93-853e-e715692cc440",
   "metadata": {},
   "source": [
    "# Tutorial"
   ]
  },
  {
   "cell_type": "markdown",
   "id": "5fe3a859-24da-45ea-b091-bb25339de8aa",
   "metadata": {},
   "source": [
    "## Loading a data file"
   ]
  },
  {
   "cell_type": "code",
   "execution_count": null,
   "id": "1c676676-e21a-4710-ad93-ecef812ee6b8",
   "metadata": {},
   "outputs": [],
   "source": [
    "import segyio\n",
    "import numpy as np\n",
    "\n",
    "# Path to the data file\n",
    "filename = 'Seismic_data.sgy'\n",
    "# Initialize an empty dictionary to store trace data with (iline, xline) as keys\n",
    "trace_dict = {}\n",
    "\n",
    "with segyio.open(filename, \"r\", ignore_geometry=True) as segyfile:\n",
    "    # Take inline and xline from header\n",
    "    for trace_index in range(segyfile.tracecount):\n",
    "        iline = segyfile.header[trace_index][segyio.TraceField.INLINE_3D]\n",
    "        xline = segyfile.header[trace_index][segyio.TraceField.CROSSLINE_3D]\n",
    "\n",
    "        # Read the Traces\n",
    "        trace = segyfile.trace[trace_index]\n",
    "\n",
    "        # Store the traces with (inline, xline) as main keys\n",
    "        trace_dict[(iline, xline)] = trace\n",
    "\n",
    "# Search for the ranges of the inlines and the xlines to define array's dimentions\n",
    "ilines = sorted(set(key[0] for key in trace_dict.keys()))\n",
    "xlines = sorted(set(key[1] for key in trace_dict.keys()))\n",
    "\n",
    "# Get the number of samples per trace from one trace (assuming all traces have the same length)\n",
    "num_samples = len(next(iter(trace_dict.values())))\n",
    "\n",
    "# Initialize the 3D array: iline (axis 0), xline (axis 1), sample (axis 2)\n",
    "# Use np.nan to represent missing data\n",
    "data = np.full((len(ilines), len(xlines), num_samples), np.nan)\n",
    "\n",
    "# Fill the 3D array with trace data, skipping missing iline-xline pairs\n",
    "for i, iline in enumerate(ilines):\n",
    "    for j, xline in enumerate(xlines):\n",
    "        if (iline, xline) in trace_dict:\n",
    "            data[i, j, :] = trace_dict[(iline, xline)]\n",
    "\n",
    "# this data has some disturbances after x>600, so we cut it\n",
    "seismic_data = data[:600,:,:]"
   ]
  },
  {
   "cell_type": "markdown",
   "id": "470b0443-1c32-442f-a91e-5dcaee6ec199",
   "metadata": {},
   "source": [
    "## Plotting the data in its original aspect"
   ]
  },
  {
   "cell_type": "code",
   "execution_count": null,
   "id": "6c7a7604-25de-4bde-b043-876e9756da44",
   "metadata": {},
   "outputs": [],
   "source": [
    "# creating the slices\n",
    "node = cima.create_slices(\n",
    "    seismic_data, cmap='seismic'\n",
    ")\n",
    "# set the distance from the camera\n",
    "eye=dict(x=1.1,y=1.1,z=1.1)\n",
    "# set the plot a little up in the display\n",
    "center=dict(x=0,y=0,z=-.3)\n",
    "# ploting\n",
    "cima.plot3D(\n",
    "    node,\n",
    "    # aspect of the data is the same as the original shape\n",
    "    aspect='data',\n",
    "    eye=eye,\n",
    "    center=center,\n",
    "    # set the size of the display window\n",
    "    size=[600,900]\n",
    ")"
   ]
  },
  {
   "cell_type": "markdown",
   "id": "6dd2dff9-fa1d-409d-b23c-1b3d51e8c867",
   "metadata": {},
   "source": [
    "## Plotting the data as a cube"
   ]
  },
  {
   "cell_type": "code",
   "execution_count": null,
   "id": "6299e356-2673-44fe-9e62-1c6168520869",
   "metadata": {},
   "outputs": [],
   "source": [
    "node = cima.create_slices(seismic_data, cmap='seismic')\n",
    "center=dict(x=0,y=0,z=-.16)\n",
    "cima.plot3D(node, center=center)"
   ]
  },
  {
   "cell_type": "markdown",
   "id": "703c3448-c9c2-4815-bc1a-1f7563e1e6ec",
   "metadata": {},
   "source": [
    "## Plotting multiple colormap schemes at once"
   ]
  },
  {
   "cell_type": "code",
   "execution_count": null,
   "id": "81d63341-ae82-4267-9042-1e8b544c9a00",
   "metadata": {},
   "outputs": [],
   "source": [
    "node0 = cima.create_slices(\n",
    "    seismic_data, show_cbar=False, cmap='seismic'\n",
    ")\n",
    "node1 = cima.create_slices(\n",
    "    seismic_data, show_cbar=False, cmap='grey'\n",
    ")\n",
    "node2 = cima.create_slices(\n",
    "    seismic_data, show_cbar=False\n",
    ")\n",
    "center=dict(x=0,y=-0.1,z=-.16)\n",
    "eye=dict(x=1.45,y=1.45,z=1.45) # distance\n",
    "cima.plot3D(\n",
    "    [node0, node1, node2], # list of subplots\n",
    "    cols=3,                # number of subplots by line\n",
    "    size=[400,1200],       # height and width\n",
    "    center=center,\n",
    "    eye=eye\n",
    ")"
   ]
  },
  {
   "cell_type": "markdown",
   "id": "ca9b041c-eb9c-4d76-8be0-c58f42aa280a",
   "metadata": {},
   "source": [
    "## Using the function `surface_intersections`"
   ]
  },
  {
   "cell_type": "code",
   "execution_count": null,
   "id": "7a6509b8-c468-46d3-b376-80831d023a2e",
   "metadata": {},
   "outputs": [],
   "source": [
    "dx=100\n",
    "dy=100\n",
    "\n",
    "# creates a list of intersectioning points on surface\n",
    "pontos = cima.surface_intersections(seismic_data, dx, dy)\n",
    "\n",
    "node1 = cima.create_slices(\n",
    "    seismic_data, cmap='seismic'\n",
    ")\n",
    "node_with_points = cima.create_markers(\n",
    "    node1, points=pontos,\n",
    "    name=\"Intersectioning points on surface\",\n",
    "    color=\"blue\", group=\"source\")\n",
    "center=dict(x=0,y=-0.1,z=-.16)\n",
    "\n",
    "cima.plot3D(node_with_points,\n",
    "            size=[700,750],\n",
    "            center=center)"
   ]
  },
  {
   "cell_type": "markdown",
   "id": "1b3370bc-3061-4f53-97b1-70ee28cb220a",
   "metadata": {},
   "source": [
    "## Creating different cross-sections with the data"
   ]
  },
  {
   "cell_type": "code",
   "execution_count": null,
   "id": "966c5846-6c21-4f15-9282-daecfe880f9f",
   "metadata": {},
   "outputs": [],
   "source": [
    "# Get the values of the dimentions of the axes\n",
    "x_size, y_size, z_size = seismic_data.shape\n",
    "\n",
    "# Get the values at the center of the axes\n",
    "s_central_x = x_size // 2\n",
    "s_central_y = y_size // 2\n",
    "s_central_z = z_size // 2\n",
    "\n",
    "# set the positions of the slices to the central of each axis\n",
    "seismic_data_node1 = cima.create_slices(\n",
    "    seismic_data, cmap='seismic', show_cbar=False,\n",
    "    pos={\n",
    "        'x': [s_central_x],\n",
    "        'y': [s_central_y],\n",
    "        'z': [s_central_z]}\n",
    ")\n",
    "\n",
    "# in the z axis set 3 slices, instead of 2\n",
    "s_central_z2 = z_size // 4\n",
    "seismic_data_node2 = cima.create_slices(\n",
    "    seismic_data, cmap='seismic', cbar_position='below',\n",
    "    pos={'x': [s_central_x],\n",
    "        'y': [s_central_y],\n",
    "        'z': [s_central_z2, s_central_z2*2,s_central_z2*3]},\n",
    ")\n",
    "center=dict(x=0,y=-0.1,z=-.16)\n",
    "eye=dict(x=1.4,y=1.4,z=1.4)\n",
    "# Plot\n",
    "cima.plot3D([seismic_data_node1,seismic_data_node2],eye=eye, center=center, size=[600,1000])"
   ]
  },
  {
   "cell_type": "markdown",
   "id": "7e7d2784-c55e-453e-818b-644c96ce9c2a",
   "metadata": {},
   "source": [
    "## Making different visual customizations"
   ]
  },
  {
   "cell_type": "code",
   "execution_count": null,
   "id": "b5434810-86e5-406d-8ff9-67036959d534",
   "metadata": {},
   "outputs": [],
   "source": [
    "node = cima.create_slices(\n",
    "    seismic_data,\n",
    "    cmap='seismic',\n",
    "    cbar_params={'title':\"Seismic\"},\n",
    ")\n",
    "center=dict(x=0,y=0,z=-.06)\n",
    "eye=dict(x=1.32,y=1.32,z=1.32)\n",
    "cima.plot3D( node,\n",
    "    font_size=14,\n",
    "    # z axis settings\n",
    "    z_label=\"Depth\",\n",
    "    z_autorange=True,\n",
    "    z_tickvals=[0, 50, 100, 150, 200, 300,400, 500],\n",
    "    y_tickvals=[0, 100, 200, 300, 400, 500, 600, 700, 800, 900, 1000],\n",
    "    eye=eye,\n",
    "    center=center,\n",
    "    # grid settings\n",
    "    show_grid=True,\n",
    "    x_bgcolor='rgba(255,0,0,0.3)',\n",
    "    y_bgcolor='rgba(0,255,0,0.3)',\n",
    "    z_bgcolor='rgba(0,0,255,0.3)'\n",
    ")"
   ]
  },
  {
   "cell_type": "markdown",
   "id": "d33adc3a-4fa1-4e09-8c5d-f11d10e6349e",
   "metadata": {},
   "source": [
    "## Placing an annotation"
   ]
  },
  {
   "cell_type": "code",
   "execution_count": null,
   "id": "56e8261c-20e5-490d-aaf5-760d3218969e",
   "metadata": {},
   "outputs": [],
   "source": [
    "node = cima.create_slices(\n",
    "    seismic_data, cmap='seismic',\n",
    "    bar_position='below'\n",
    ")\n",
    "center=dict(x=0,y=-0.1,z=-.16)\n",
    "annotations=[dict(\n",
    "    x=20,\n",
    "    y=100,\n",
    "    z=40,\n",
    "    text=\"Point\",\n",
    "    textangle=0,\n",
    "    ax=0,\n",
    "    ay=-75,\n",
    "    font=dict(\n",
    "    color=\"black\",\n",
    "    size=12\n",
    "    ),\n",
    "    arrowcolor=\"black\",\n",
    "    arrowsize=3,\n",
    "    arrowwidth=1,\n",
    "    arrowhead=1\n",
    ")]\n",
    "cima.plot3D(node,\n",
    "    annotations=annotations, center=center,\n",
    ")"
   ]
  },
  {
   "cell_type": "markdown",
   "id": "fb0bc246-c05f-46fc-9eb9-eb2ca9726fdf",
   "metadata": {},
   "source": [
    "## Creating markers"
   ]
  },
  {
   "cell_type": "code",
   "execution_count": null,
   "id": "ba335d17-3654-4886-9df9-2e4b4b106adf",
   "metadata": {},
   "outputs": [],
   "source": [
    "# Get the values of the dimentions of the axes\n",
    "x_size, y_size, z_size = seismic_data.shape\n",
    "\n",
    "# Get the values at the center of the axes\n",
    "s_central_x = x_size // 2\n",
    "s_central_y = y_size // 2\n",
    "s_central_z = z_size // 2\n",
    "\n",
    "# set the positions of the slices to the central of each axis\n",
    "seismic_data_node1 = cima.create_slices(\n",
    "    seismic_data, cmap='seismic', show_cbar=False,\n",
    "    pos={\n",
    "        'x': [s_central_x],\n",
    "        'y': [s_central_y],\n",
    "        'z': [s_central_z]}\n",
    ")\n",
    "\n",
    "# in the z axis set 3 slices, instead of 2\n",
    "s_central_z2 = z_size // 4\n",
    "seismic_data_node2 = cima.create_slices(\n",
    "    seismic_data, cmap='seismic', cbar_position='below',\n",
    "    pos={'x': [s_central_x],\n",
    "        'y': [s_central_y],\n",
    "        'z': [s_central_z2, s_central_z2*2,s_central_z2*3]},\n",
    ")\n",
    "\n",
    "# list of three points, given each axis its values\n",
    "x=[30,20, 10]\n",
    "y=[0,60,20]\n",
    "z=[0,60,20]\n",
    "\n",
    "# adding points to the first subplot\n",
    "markers_node1 = cima.create_markers(\n",
    "    seismic_data_node1, x=x, y=y, z=z,\n",
    "    text=[\"something\", \"another thing\", \"more 1\"], name=\"Markers at subplot 1\",\n",
    "    color=\"blue\", group=\"receiver\")\n",
    "\n",
    "# defining a point as a <x,y,z> tuple\n",
    "x=20\n",
    "y=200\n",
    "z=60\n",
    "points2=[[x,y,z]]\n",
    "\n",
    "# adding the new point as a marker in the second subplot\n",
    "new_markers_node2 = cima.create_markers(\n",
    "    seismic_data_node2, points=points2, text=[\"anything\"], name=\"A marker at subplot 2\",\n",
    "    color=\"red\", group=\"source\")\n",
    "\n",
    "# adding the same markers from subplot 1 in node2\n",
    "points3= [[30,0,0],[20,60,60],[10,20,20]]\n",
    "markers_node2 = cima.create_markers(\n",
    "    new_markers_node2, points=points3,\n",
    "    text=[\"something2\", \"another thing2\"], name=\"Same suplot 1 markers at suplot 2\",\n",
    "    color=\"blue\", group=\"receiver\")\n",
    "\n",
    "center=dict(x=0,y=-0.1,z=-.16)\n",
    "eye=dict(x=1.4,y=1.4,z=1.4)\n",
    "# Plot\n",
    "cima.plot3D([markers_node1,markers_node2],eye=eye,center=center,size=[600,1000])"
   ]
  },
  {
   "cell_type": "markdown",
   "id": "1f4fb047-4655-4568-95bd-76f3c37dfa5a",
   "metadata": {},
   "source": [
    "## Creating a grid at the surface of the data with `surface_grid`"
   ]
  },
  {
   "cell_type": "code",
   "execution_count": null,
   "id": "e8d6e873-7e06-4996-b623-e741ca8d4803",
   "metadata": {},
   "outputs": [],
   "source": [
    "# Get the values of the dimentions of the axes\n",
    "x_size, y_size, z_size = seismic_data.shape\n",
    "\n",
    "# Get the values at the center of the axes\n",
    "s_central_x = x_size // 2\n",
    "s_central_y = y_size // 2\n",
    "s_central_z = z_size // 2\n",
    "\n",
    "# set the positions of the slices to the central of each axis\n",
    "seismic_data_node1 = cima.create_slices(\n",
    "    seismic_data, cmap='seismic', show_cbar=False,\n",
    "    pos={\n",
    "        'x': [s_central_x],\n",
    "        'y': [s_central_y],\n",
    "        'z': [s_central_z]}\n",
    ")\n",
    "\n",
    "# in the z axis set 3 slices, instead of 2\n",
    "s_central_z2 = z_size // 4\n",
    "seismic_data_node2 = cima.create_slices(\n",
    "    seismic_data, cmap='seismic', cbar_position='below',\n",
    "    pos={'x': [s_central_x],\n",
    "        'y': [s_central_y],\n",
    "        'z': [s_central_z2, s_central_z2*2,s_central_z2*3]},\n",
    ")\n",
    "\n",
    "# list of three points, given each axis its values\n",
    "x=[30,20, 10]\n",
    "y=[0,60,20]\n",
    "z=[0,60,20]\n",
    "\n",
    "# adding points to the first subplot\n",
    "markers_node1 = cima.create_markers(\n",
    "    seismic_data_node1, x=x, y=y, z=z,\n",
    "    text=[\"something\", \"another thing\", \"more 1\"], name=\"Markers at subplot 1\",\n",
    "    color=\"blue\", group=\"receiver\")\n",
    "\n",
    "# defining a point as a <x,y,z> tuple\n",
    "x=20\n",
    "y=200\n",
    "z=60\n",
    "points2=[[x,y,z]]\n",
    "\n",
    "# adding the new point as a marker in the second subplot\n",
    "new_markers_node2 = cima.create_markers(\n",
    "    seismic_data_node2, points=points2, text=[\"anything\"], name=\"A marker at subplot 2\",\n",
    "    color=\"red\", group=\"source\")\n",
    "\n",
    "# adding the same markers from subplot 1 in node2\n",
    "points3= [[30,0,0],[20,60,60],[10,20,20]]\n",
    "markers_node2 = cima.create_markers(\n",
    "    new_markers_node2, points=points3,\n",
    "    text=[\"something2\", \"another thing2\"], name=\"Same suplot 1 markers at suplot 2\",\n",
    "    color=\"blue\", group=\"receiver\")\n",
    "\n",
    "center=dict(x=0,y=-0.1,z=-.16)\n",
    "eye=dict(x=1.4,y=1.4,z=1.4)\n",
    "# Plot\n",
    "cima.plot3D([markers_node1,markers_node2],eye=eye,center=center,size=[600,1000])"
   ]
  }
 ],
 "metadata": {
  "kernelspec": {
   "display_name": "Python 3 (ipykernel)",
   "language": "python",
   "name": "python3"
  },
  "language_info": {
   "codemirror_mode": {
    "name": "ipython",
    "version": 3
   },
   "file_extension": ".py",
   "mimetype": "text/x-python",
   "name": "python",
   "nbconvert_exporter": "python",
   "pygments_lexer": "ipython3",
   "version": "3.11.10"
  }
 },
 "nbformat": 4,
 "nbformat_minor": 5
}
